{
 "cells": [
  {
   "cell_type": "code",
   "execution_count": 1,
   "metadata": {},
   "outputs": [],
   "source": [
    "import numpy as np\n",
    "import statsmodels.api as sm"
   ]
  },
  {
   "cell_type": "code",
   "execution_count": 2,
   "metadata": {},
   "outputs": [],
   "source": [
    "import pandas as pd\n",
    "file = '/Users/shionguha/Documents/GitHub/inf2178h-experimentaldesign-hcds/data/hsb2.csv'\n",
    "hsb2 = pd.read_table(file, delimiter=\",\")"
   ]
  },
  {
   "cell_type": "code",
   "execution_count": 3,
   "metadata": {},
   "outputs": [
    {
     "data": {
      "text/html": [
       "<div>\n",
       "<style scoped>\n",
       "    .dataframe tbody tr th:only-of-type {\n",
       "        vertical-align: middle;\n",
       "    }\n",
       "\n",
       "    .dataframe tbody tr th {\n",
       "        vertical-align: top;\n",
       "    }\n",
       "\n",
       "    .dataframe thead th {\n",
       "        text-align: right;\n",
       "    }\n",
       "</style>\n",
       "<table border=\"1\" class=\"dataframe\">\n",
       "  <thead>\n",
       "    <tr style=\"text-align: right;\">\n",
       "      <th></th>\n",
       "      <th>id</th>\n",
       "      <th>gender</th>\n",
       "      <th>race</th>\n",
       "      <th>ses</th>\n",
       "      <th>schtyp</th>\n",
       "      <th>prog</th>\n",
       "      <th>read</th>\n",
       "      <th>write</th>\n",
       "      <th>math</th>\n",
       "      <th>science</th>\n",
       "      <th>socst</th>\n",
       "    </tr>\n",
       "  </thead>\n",
       "  <tbody>\n",
       "    <tr>\n",
       "      <th>0</th>\n",
       "      <td>70</td>\n",
       "      <td>male</td>\n",
       "      <td>white</td>\n",
       "      <td>low</td>\n",
       "      <td>public</td>\n",
       "      <td>general</td>\n",
       "      <td>57</td>\n",
       "      <td>52</td>\n",
       "      <td>41</td>\n",
       "      <td>47</td>\n",
       "      <td>57</td>\n",
       "    </tr>\n",
       "    <tr>\n",
       "      <th>1</th>\n",
       "      <td>121</td>\n",
       "      <td>female</td>\n",
       "      <td>white</td>\n",
       "      <td>middle</td>\n",
       "      <td>public</td>\n",
       "      <td>vocational</td>\n",
       "      <td>68</td>\n",
       "      <td>59</td>\n",
       "      <td>53</td>\n",
       "      <td>63</td>\n",
       "      <td>61</td>\n",
       "    </tr>\n",
       "    <tr>\n",
       "      <th>2</th>\n",
       "      <td>86</td>\n",
       "      <td>male</td>\n",
       "      <td>white</td>\n",
       "      <td>high</td>\n",
       "      <td>public</td>\n",
       "      <td>general</td>\n",
       "      <td>44</td>\n",
       "      <td>33</td>\n",
       "      <td>54</td>\n",
       "      <td>58</td>\n",
       "      <td>31</td>\n",
       "    </tr>\n",
       "    <tr>\n",
       "      <th>3</th>\n",
       "      <td>141</td>\n",
       "      <td>male</td>\n",
       "      <td>white</td>\n",
       "      <td>high</td>\n",
       "      <td>public</td>\n",
       "      <td>vocational</td>\n",
       "      <td>63</td>\n",
       "      <td>44</td>\n",
       "      <td>47</td>\n",
       "      <td>53</td>\n",
       "      <td>56</td>\n",
       "    </tr>\n",
       "    <tr>\n",
       "      <th>4</th>\n",
       "      <td>172</td>\n",
       "      <td>male</td>\n",
       "      <td>white</td>\n",
       "      <td>middle</td>\n",
       "      <td>public</td>\n",
       "      <td>academic</td>\n",
       "      <td>47</td>\n",
       "      <td>52</td>\n",
       "      <td>57</td>\n",
       "      <td>53</td>\n",
       "      <td>61</td>\n",
       "    </tr>\n",
       "    <tr>\n",
       "      <th>5</th>\n",
       "      <td>113</td>\n",
       "      <td>male</td>\n",
       "      <td>white</td>\n",
       "      <td>middle</td>\n",
       "      <td>public</td>\n",
       "      <td>academic</td>\n",
       "      <td>44</td>\n",
       "      <td>52</td>\n",
       "      <td>51</td>\n",
       "      <td>63</td>\n",
       "      <td>61</td>\n",
       "    </tr>\n",
       "    <tr>\n",
       "      <th>6</th>\n",
       "      <td>50</td>\n",
       "      <td>male</td>\n",
       "      <td>african american</td>\n",
       "      <td>middle</td>\n",
       "      <td>public</td>\n",
       "      <td>general</td>\n",
       "      <td>50</td>\n",
       "      <td>59</td>\n",
       "      <td>42</td>\n",
       "      <td>53</td>\n",
       "      <td>61</td>\n",
       "    </tr>\n",
       "    <tr>\n",
       "      <th>7</th>\n",
       "      <td>11</td>\n",
       "      <td>male</td>\n",
       "      <td>hispanic</td>\n",
       "      <td>middle</td>\n",
       "      <td>public</td>\n",
       "      <td>academic</td>\n",
       "      <td>34</td>\n",
       "      <td>46</td>\n",
       "      <td>45</td>\n",
       "      <td>39</td>\n",
       "      <td>36</td>\n",
       "    </tr>\n",
       "    <tr>\n",
       "      <th>8</th>\n",
       "      <td>84</td>\n",
       "      <td>male</td>\n",
       "      <td>white</td>\n",
       "      <td>middle</td>\n",
       "      <td>public</td>\n",
       "      <td>general</td>\n",
       "      <td>63</td>\n",
       "      <td>57</td>\n",
       "      <td>54</td>\n",
       "      <td>58</td>\n",
       "      <td>51</td>\n",
       "    </tr>\n",
       "    <tr>\n",
       "      <th>9</th>\n",
       "      <td>48</td>\n",
       "      <td>male</td>\n",
       "      <td>african american</td>\n",
       "      <td>middle</td>\n",
       "      <td>public</td>\n",
       "      <td>academic</td>\n",
       "      <td>57</td>\n",
       "      <td>55</td>\n",
       "      <td>52</td>\n",
       "      <td>50</td>\n",
       "      <td>51</td>\n",
       "    </tr>\n",
       "  </tbody>\n",
       "</table>\n",
       "</div>"
      ],
      "text/plain": [
       "    id  gender              race     ses  schtyp        prog  read  write  \\\n",
       "0   70    male             white     low  public     general    57     52   \n",
       "1  121  female             white  middle  public  vocational    68     59   \n",
       "2   86    male             white    high  public     general    44     33   \n",
       "3  141    male             white    high  public  vocational    63     44   \n",
       "4  172    male             white  middle  public    academic    47     52   \n",
       "5  113    male             white  middle  public    academic    44     52   \n",
       "6   50    male  african american  middle  public     general    50     59   \n",
       "7   11    male          hispanic  middle  public    academic    34     46   \n",
       "8   84    male             white  middle  public     general    63     57   \n",
       "9   48    male  african american  middle  public    academic    57     55   \n",
       "\n",
       "   math  science  socst  \n",
       "0    41       47     57  \n",
       "1    53       63     61  \n",
       "2    54       58     31  \n",
       "3    47       53     56  \n",
       "4    57       53     61  \n",
       "5    51       63     61  \n",
       "6    42       53     61  \n",
       "7    45       39     36  \n",
       "8    54       58     51  \n",
       "9    52       50     51  "
      ]
     },
     "execution_count": 3,
     "metadata": {},
     "output_type": "execute_result"
    }
   ],
   "source": [
    "hsb2.head(10)"
   ]
  },
  {
   "cell_type": "code",
   "execution_count": 4,
   "metadata": {},
   "outputs": [
    {
     "data": {
      "text/plain": [
       "race\n",
       "african american    48.200000\n",
       "asian               58.000000\n",
       "hispanic            46.458333\n",
       "white               54.055172\n",
       "Name: write, dtype: float64"
      ]
     },
     "execution_count": 4,
     "metadata": {},
     "output_type": "execute_result"
    }
   ],
   "source": [
    "hsb2.groupby('race')['write'].mean()"
   ]
  },
  {
   "cell_type": "code",
   "execution_count": 5,
   "metadata": {},
   "outputs": [
    {
     "name": "stdout",
     "output_type": "stream",
     "text": [
      "[[0. 0. 0.]\n",
      " [1. 0. 0.]\n",
      " [0. 1. 0.]\n",
      " [0. 0. 1.]]\n"
     ]
    }
   ],
   "source": [
    "#dummy coding\n",
    "from patsy.contrasts import Treatment\n",
    "levels = [1,2,3,4]\n",
    "contrast = Treatment(reference=0).code_without_intercept(levels)\n",
    "print(contrast.matrix)"
   ]
  },
  {
   "cell_type": "code",
   "execution_count": 6,
   "metadata": {},
   "outputs": [
    {
     "data": {
      "text/plain": [
       "0               white\n",
       "1               white\n",
       "2               white\n",
       "3               white\n",
       "4               white\n",
       "5               white\n",
       "6    african american\n",
       "7            hispanic\n",
       "8               white\n",
       "9    african american\n",
       "Name: race, dtype: object"
      ]
     },
     "execution_count": 6,
     "metadata": {},
     "output_type": "execute_result"
    }
   ],
   "source": [
    "hsb2.race.head(10)"
   ]
  },
  {
   "cell_type": "code",
   "execution_count": 8,
   "metadata": {},
   "outputs": [
    {
     "data": {
      "text/html": [
       "<div>\n",
       "<style scoped>\n",
       "    .dataframe tbody tr th:only-of-type {\n",
       "        vertical-align: middle;\n",
       "    }\n",
       "\n",
       "    .dataframe tbody tr th {\n",
       "        vertical-align: top;\n",
       "    }\n",
       "\n",
       "    .dataframe thead th {\n",
       "        text-align: right;\n",
       "    }\n",
       "</style>\n",
       "<table border=\"1\" class=\"dataframe\">\n",
       "  <thead>\n",
       "    <tr style=\"text-align: right;\">\n",
       "      <th></th>\n",
       "      <th>african american</th>\n",
       "      <th>asian</th>\n",
       "      <th>hispanic</th>\n",
       "      <th>white</th>\n",
       "    </tr>\n",
       "  </thead>\n",
       "  <tbody>\n",
       "    <tr>\n",
       "      <th>0</th>\n",
       "      <td>0</td>\n",
       "      <td>0</td>\n",
       "      <td>0</td>\n",
       "      <td>1</td>\n",
       "    </tr>\n",
       "    <tr>\n",
       "      <th>1</th>\n",
       "      <td>0</td>\n",
       "      <td>0</td>\n",
       "      <td>0</td>\n",
       "      <td>1</td>\n",
       "    </tr>\n",
       "    <tr>\n",
       "      <th>2</th>\n",
       "      <td>0</td>\n",
       "      <td>0</td>\n",
       "      <td>0</td>\n",
       "      <td>1</td>\n",
       "    </tr>\n",
       "    <tr>\n",
       "      <th>3</th>\n",
       "      <td>0</td>\n",
       "      <td>0</td>\n",
       "      <td>0</td>\n",
       "      <td>1</td>\n",
       "    </tr>\n",
       "    <tr>\n",
       "      <th>4</th>\n",
       "      <td>0</td>\n",
       "      <td>0</td>\n",
       "      <td>0</td>\n",
       "      <td>1</td>\n",
       "    </tr>\n",
       "    <tr>\n",
       "      <th>...</th>\n",
       "      <td>...</td>\n",
       "      <td>...</td>\n",
       "      <td>...</td>\n",
       "      <td>...</td>\n",
       "    </tr>\n",
       "    <tr>\n",
       "      <th>195</th>\n",
       "      <td>0</td>\n",
       "      <td>1</td>\n",
       "      <td>0</td>\n",
       "      <td>0</td>\n",
       "    </tr>\n",
       "    <tr>\n",
       "      <th>196</th>\n",
       "      <td>0</td>\n",
       "      <td>0</td>\n",
       "      <td>0</td>\n",
       "      <td>1</td>\n",
       "    </tr>\n",
       "    <tr>\n",
       "      <th>197</th>\n",
       "      <td>0</td>\n",
       "      <td>0</td>\n",
       "      <td>0</td>\n",
       "      <td>1</td>\n",
       "    </tr>\n",
       "    <tr>\n",
       "      <th>198</th>\n",
       "      <td>0</td>\n",
       "      <td>0</td>\n",
       "      <td>0</td>\n",
       "      <td>1</td>\n",
       "    </tr>\n",
       "    <tr>\n",
       "      <th>199</th>\n",
       "      <td>0</td>\n",
       "      <td>0</td>\n",
       "      <td>0</td>\n",
       "      <td>1</td>\n",
       "    </tr>\n",
       "  </tbody>\n",
       "</table>\n",
       "<p>200 rows × 4 columns</p>\n",
       "</div>"
      ],
      "text/plain": [
       "     african american  asian  hispanic  white\n",
       "0                   0      0         0      1\n",
       "1                   0      0         0      1\n",
       "2                   0      0         0      1\n",
       "3                   0      0         0      1\n",
       "4                   0      0         0      1\n",
       "..                ...    ...       ...    ...\n",
       "195                 0      1         0      0\n",
       "196                 0      0         0      1\n",
       "197                 0      0         0      1\n",
       "198                 0      0         0      1\n",
       "199                 0      0         0      1\n",
       "\n",
       "[200 rows x 4 columns]"
      ]
     },
     "execution_count": 8,
     "metadata": {},
     "output_type": "execute_result"
    }
   ],
   "source": [
    "pd.get_dummies(hsb2.race.values, drop_first=False)"
   ]
  },
  {
   "cell_type": "code",
   "execution_count": 9,
   "metadata": {},
   "outputs": [
    {
     "name": "stdout",
     "output_type": "stream",
     "text": [
      "                            OLS Regression Results                            \n",
      "==============================================================================\n",
      "Dep. Variable:                  write   R-squared:                       0.107\n",
      "Model:                            OLS   Adj. R-squared:                  0.093\n",
      "Method:                 Least Squares   F-statistic:                     7.833\n",
      "Date:                Mon, 15 Mar 2021   Prob (F-statistic):           5.78e-05\n",
      "Time:                        12:02:31   Log-Likelihood:                -721.77\n",
      "No. Observations:                 200   AIC:                             1452.\n",
      "Df Residuals:                     196   BIC:                             1465.\n",
      "Df Model:                           3                                         \n",
      "Covariance Type:            nonrobust                                         \n",
      "==================================================================================================\n",
      "                                     coef    std err          t      P>|t|      [0.025      0.975]\n",
      "--------------------------------------------------------------------------------------------------\n",
      "Intercept                         48.2000      2.018     23.884      0.000      44.220      52.180\n",
      "C(race, Treatment)[T.asian]        9.8000      3.388      2.893      0.004       3.119      16.481\n",
      "C(race, Treatment)[T.hispanic]    -1.7417      2.732     -0.637      0.525      -7.131       3.647\n",
      "C(race, Treatment)[T.white]        5.8552      2.153      2.720      0.007       1.610      10.101\n",
      "==============================================================================\n",
      "Omnibus:                       10.487   Durbin-Watson:                   1.779\n",
      "Prob(Omnibus):                  0.005   Jarque-Bera (JB):               11.031\n",
      "Skew:                          -0.551   Prob(JB):                      0.00402\n",
      "Kurtosis:                       2.670   Cond. No.                         8.82\n",
      "==============================================================================\n",
      "\n",
      "Warnings:\n",
      "[1] Standard Errors assume that the covariance matrix of the errors is correctly specified.\n"
     ]
    }
   ],
   "source": [
    "from statsmodels.formula.api import ols\n",
    "mod = ols(\"write ~ C(race, Treatment)\", data=hsb2)\n",
    "res = mod.fit()\n",
    "print(res.summary())"
   ]
  },
  {
   "cell_type": "code",
   "execution_count": 10,
   "metadata": {},
   "outputs": [],
   "source": [
    "#simple coding\n",
    "from patsy.contrasts import ContrastMatrix\n",
    "\n",
    "def _name_levels(prefix, levels):\n",
    "    return [\"[%s%s]\" % (prefix, level) for level in levels]\n",
    "\n",
    "class Simple(object):\n",
    "    def _simple_contrast(self, levels):\n",
    "        nlevels = len(levels)\n",
    "        contr = -1./nlevels * np.ones((nlevels, nlevels-1))\n",
    "        contr[1:][np.diag_indices(nlevels-1)] = (nlevels-1.)/nlevels\n",
    "        return contr\n",
    "\n",
    "    def code_with_intercept(self, levels):\n",
    "        contrast = np.column_stack((np.ones(len(levels)),\n",
    "                                    self._simple_contrast(levels)))\n",
    "        return ContrastMatrix(contrast, _name_levels(\"Simp.\", levels))\n",
    "\n",
    "    def code_without_intercept(self, levels):\n",
    "        contrast = self._simple_contrast(levels)\n",
    "        return ContrastMatrix(contrast, _name_levels(\"Simp.\", levels[:-1]))"
   ]
  },
  {
   "cell_type": "code",
   "execution_count": 11,
   "metadata": {},
   "outputs": [
    {
     "data": {
      "text/plain": [
       "51.678376436781605"
      ]
     },
     "execution_count": 11,
     "metadata": {},
     "output_type": "execute_result"
    }
   ],
   "source": [
    "hsb2.groupby('race')['write'].mean().mean()"
   ]
  },
  {
   "cell_type": "code",
   "execution_count": 12,
   "metadata": {},
   "outputs": [
    {
     "name": "stdout",
     "output_type": "stream",
     "text": [
      "[[-0.25 -0.25 -0.25]\n",
      " [ 0.75 -0.25 -0.25]\n",
      " [-0.25  0.75 -0.25]\n",
      " [-0.25 -0.25  0.75]]\n"
     ]
    }
   ],
   "source": [
    "contrast = Simple().code_without_intercept(levels)\n",
    "print(contrast.matrix)"
   ]
  },
  {
   "cell_type": "code",
   "execution_count": 13,
   "metadata": {},
   "outputs": [
    {
     "name": "stdout",
     "output_type": "stream",
     "text": [
      "                            OLS Regression Results                            \n",
      "==============================================================================\n",
      "Dep. Variable:                  write   R-squared:                       0.107\n",
      "Model:                            OLS   Adj. R-squared:                  0.093\n",
      "Method:                 Least Squares   F-statistic:                     7.833\n",
      "Date:                Mon, 15 Mar 2021   Prob (F-statistic):           5.78e-05\n",
      "Time:                        12:03:05   Log-Likelihood:                -721.77\n",
      "No. Observations:                 200   AIC:                             1452.\n",
      "Df Residuals:                     196   BIC:                             1465.\n",
      "Df Model:                           3                                         \n",
      "Covariance Type:            nonrobust                                         \n",
      "==========================================================================================================\n",
      "                                             coef    std err          t      P>|t|      [0.025      0.975]\n",
      "----------------------------------------------------------------------------------------------------------\n",
      "Intercept                                 51.6784      0.982     52.619      0.000      49.741      53.615\n",
      "C(race, Simple)[Simp.african american]     9.8000      3.388      2.893      0.004       3.119      16.481\n",
      "C(race, Simple)[Simp.asian]               -1.7417      2.732     -0.637      0.525      -7.131       3.647\n",
      "C(race, Simple)[Simp.hispanic]             5.8552      2.153      2.720      0.007       1.610      10.101\n",
      "==============================================================================\n",
      "Omnibus:                       10.487   Durbin-Watson:                   1.779\n",
      "Prob(Omnibus):                  0.005   Jarque-Bera (JB):               11.031\n",
      "Skew:                          -0.551   Prob(JB):                      0.00402\n",
      "Kurtosis:                       2.670   Cond. No.                         7.41\n",
      "==============================================================================\n",
      "\n",
      "Warnings:\n",
      "[1] Standard Errors assume that the covariance matrix of the errors is correctly specified.\n"
     ]
    }
   ],
   "source": [
    "mod = ols(\"write ~ C(race, Simple)\", data=hsb2)\n",
    "res = mod.fit()\n",
    "print(res.summary())"
   ]
  },
  {
   "cell_type": "code",
   "execution_count": 14,
   "metadata": {},
   "outputs": [
    {
     "name": "stdout",
     "output_type": "stream",
     "text": [
      "[[ 1.  0.  0.]\n",
      " [ 0.  1.  0.]\n",
      " [ 0.  0.  1.]\n",
      " [-1. -1. -1.]]\n"
     ]
    }
   ],
   "source": [
    "#sum/deviation coding\n",
    "from patsy.contrasts import Sum\n",
    "contrast = Sum().code_without_intercept(levels)\n",
    "print(contrast.matrix)"
   ]
  },
  {
   "cell_type": "code",
   "execution_count": 15,
   "metadata": {},
   "outputs": [
    {
     "name": "stdout",
     "output_type": "stream",
     "text": [
      "                            OLS Regression Results                            \n",
      "==============================================================================\n",
      "Dep. Variable:                  write   R-squared:                       0.107\n",
      "Model:                            OLS   Adj. R-squared:                  0.093\n",
      "Method:                 Least Squares   F-statistic:                     7.833\n",
      "Date:                Mon, 15 Mar 2021   Prob (F-statistic):           5.78e-05\n",
      "Time:                        12:03:27   Log-Likelihood:                -721.77\n",
      "No. Observations:                 200   AIC:                             1452.\n",
      "Df Residuals:                     196   BIC:                             1465.\n",
      "Df Model:                           3                                         \n",
      "Covariance Type:            nonrobust                                         \n",
      "====================================================================================================\n",
      "                                       coef    std err          t      P>|t|      [0.025      0.975]\n",
      "----------------------------------------------------------------------------------------------------\n",
      "Intercept                           51.6784      0.982     52.619      0.000      49.741      53.615\n",
      "C(race, Sum)[S.african american]    -3.4784      1.732     -2.008      0.046      -6.895      -0.062\n",
      "C(race, Sum)[S.asian]                6.3216      2.160      2.926      0.004       2.061      10.582\n",
      "C(race, Sum)[S.hispanic]            -5.2200      1.631     -3.200      0.002      -8.437      -2.003\n",
      "==============================================================================\n",
      "Omnibus:                       10.487   Durbin-Watson:                   1.779\n",
      "Prob(Omnibus):                  0.005   Jarque-Bera (JB):               11.031\n",
      "Skew:                          -0.551   Prob(JB):                      0.00402\n",
      "Kurtosis:                       2.670   Cond. No.                         6.72\n",
      "==============================================================================\n",
      "\n",
      "Warnings:\n",
      "[1] Standard Errors assume that the covariance matrix of the errors is correctly specified.\n"
     ]
    }
   ],
   "source": [
    "mod = ols(\"write ~ C(race, Sum)\", data=hsb2)\n",
    "res = mod.fit()\n",
    "print(res.summary())"
   ]
  },
  {
   "cell_type": "code",
   "execution_count": 16,
   "metadata": {},
   "outputs": [
    {
     "data": {
      "text/plain": [
       "51.678376436781605"
      ]
     },
     "execution_count": 16,
     "metadata": {},
     "output_type": "execute_result"
    }
   ],
   "source": [
    "hsb2.groupby('race')['write'].mean().mean()"
   ]
  },
  {
   "cell_type": "code",
   "execution_count": 17,
   "metadata": {},
   "outputs": [
    {
     "name": "stdout",
     "output_type": "stream",
     "text": [
      "[[-0.75 -0.5  -0.25]\n",
      " [ 0.25 -0.5  -0.25]\n",
      " [ 0.25  0.5  -0.25]\n",
      " [ 0.25  0.5   0.75]]\n"
     ]
    }
   ],
   "source": [
    "#backward difference coding\n",
    "from patsy.contrasts import Diff\n",
    "contrast = Diff().code_without_intercept(levels)\n",
    "print(contrast.matrix)"
   ]
  },
  {
   "cell_type": "code",
   "execution_count": 18,
   "metadata": {},
   "outputs": [
    {
     "name": "stdout",
     "output_type": "stream",
     "text": [
      "                            OLS Regression Results                            \n",
      "==============================================================================\n",
      "Dep. Variable:                  write   R-squared:                       0.107\n",
      "Model:                            OLS   Adj. R-squared:                  0.093\n",
      "Method:                 Least Squares   F-statistic:                     7.833\n",
      "Date:                Mon, 15 Mar 2021   Prob (F-statistic):           5.78e-05\n",
      "Time:                        12:03:56   Log-Likelihood:                -721.77\n",
      "No. Observations:                 200   AIC:                             1452.\n",
      "Df Residuals:                     196   BIC:                             1465.\n",
      "Df Model:                           3                                         \n",
      "Covariance Type:            nonrobust                                         \n",
      "=====================================================================================================\n",
      "                                        coef    std err          t      P>|t|      [0.025      0.975]\n",
      "-----------------------------------------------------------------------------------------------------\n",
      "Intercept                            51.6784      0.982     52.619      0.000      49.741      53.615\n",
      "C(race, Diff)[D.african american]     9.8000      3.388      2.893      0.004       3.119      16.481\n",
      "C(race, Diff)[D.asian]              -11.5417      3.286     -3.512      0.001     -18.022      -5.061\n",
      "C(race, Diff)[D.hispanic]             7.5968      1.989      3.820      0.000       3.675      11.519\n",
      "==============================================================================\n",
      "Omnibus:                       10.487   Durbin-Watson:                   1.779\n",
      "Prob(Omnibus):                  0.005   Jarque-Bera (JB):               11.031\n",
      "Skew:                          -0.551   Prob(JB):                      0.00402\n",
      "Kurtosis:                       2.670   Cond. No.                         8.29\n",
      "==============================================================================\n",
      "\n",
      "Warnings:\n",
      "[1] Standard Errors assume that the covariance matrix of the errors is correctly specified.\n"
     ]
    }
   ],
   "source": [
    "mod = ols(\"write ~ C(race, Diff)\", data=hsb2)\n",
    "res = mod.fit()\n",
    "print(res.summary())"
   ]
  },
  {
   "cell_type": "code",
   "execution_count": 20,
   "metadata": {},
   "outputs": [
    {
     "name": "stdout",
     "output_type": "stream",
     "text": [
      "[[-1. -1. -1.]\n",
      " [ 1. -1. -1.]\n",
      " [ 0.  2. -1.]\n",
      " [ 0.  0.  3.]]\n"
     ]
    }
   ],
   "source": [
    "#helmert coding\n",
    "from patsy.contrasts import Helmert\n",
    "contrast = Helmert().code_without_intercept(levels)\n",
    "print(contrast.matrix)"
   ]
  },
  {
   "cell_type": "code",
   "execution_count": 22,
   "metadata": {},
   "outputs": [
    {
     "name": "stdout",
     "output_type": "stream",
     "text": [
      "                            OLS Regression Results                            \n",
      "==============================================================================\n",
      "Dep. Variable:                  write   R-squared:                       0.107\n",
      "Model:                            OLS   Adj. R-squared:                  0.093\n",
      "Method:                 Least Squares   F-statistic:                     7.833\n",
      "Date:                Mon, 15 Mar 2021   Prob (F-statistic):           5.78e-05\n",
      "Time:                        12:05:24   Log-Likelihood:                -721.77\n",
      "No. Observations:                 200   AIC:                             1452.\n",
      "Df Residuals:                     196   BIC:                             1465.\n",
      "Df Model:                           3                                         \n",
      "Covariance Type:            nonrobust                                         \n",
      "================================================================================================\n",
      "                                   coef    std err          t      P>|t|      [0.025      0.975]\n",
      "------------------------------------------------------------------------------------------------\n",
      "Intercept                       51.6784      0.982     52.619      0.000      49.741      53.615\n",
      "C(race, Helmert)[H.asian]        4.9000      1.694      2.893      0.004       1.559       8.241\n",
      "C(race, Helmert)[H.hispanic]    -2.2139      0.834     -2.654      0.009      -3.859      -0.569\n",
      "C(race, Helmert)[H.white]        0.7923      0.372      2.130      0.034       0.059       1.526\n",
      "==============================================================================\n",
      "Omnibus:                       10.487   Durbin-Watson:                   1.779\n",
      "Prob(Omnibus):                  0.005   Jarque-Bera (JB):               11.031\n",
      "Skew:                          -0.551   Prob(JB):                      0.00402\n",
      "Kurtosis:                       2.670   Cond. No.                         7.38\n",
      "==============================================================================\n",
      "\n",
      "Warnings:\n",
      "[1] Standard Errors assume that the covariance matrix of the errors is correctly specified.\n"
     ]
    }
   ],
   "source": [
    "mod = ols(\"write ~ C(race, Helmert)\", data=hsb2)\n",
    "res = mod.fit()\n",
    "print(res.summary())"
   ]
  },
  {
   "cell_type": "code",
   "execution_count": 24,
   "metadata": {},
   "outputs": [
    {
     "data": {
      "text/plain": [
       "readcat\n",
       "(27.952, 44.0]    45.000000\n",
       "(44.0, 60.0]      53.356436\n",
       "(60.0, 76.0]      60.127660\n",
       "Name: write, dtype: float64"
      ]
     },
     "execution_count": 24,
     "metadata": {},
     "output_type": "execute_result"
    }
   ],
   "source": [
    "#orthogonal polynomial coding\n",
    "hsb2['readcat'] = np.asarray(pd.cut(hsb2.read, bins=3))\n",
    "hsb2.groupby('readcat').mean()['write']"
   ]
  },
  {
   "cell_type": "code",
   "execution_count": 25,
   "metadata": {},
   "outputs": [
    {
     "name": "stdout",
     "output_type": "stream",
     "text": [
      "[[-7.07106781e-01  4.08248290e-01]\n",
      " [-4.43378006e-17 -8.16496581e-01]\n",
      " [ 7.07106781e-01  4.08248290e-01]]\n"
     ]
    }
   ],
   "source": [
    "from patsy.contrasts import Poly\n",
    "levels = hsb2.readcat.unique().tolist()\n",
    "contrast = Poly().code_without_intercept(levels)\n",
    "print(contrast.matrix)"
   ]
  },
  {
   "cell_type": "code",
   "execution_count": 26,
   "metadata": {},
   "outputs": [
    {
     "name": "stdout",
     "output_type": "stream",
     "text": [
      "                            OLS Regression Results                            \n",
      "==============================================================================\n",
      "Dep. Variable:                  write   R-squared:                       0.320\n",
      "Model:                            OLS   Adj. R-squared:                  0.313\n",
      "Method:                 Least Squares   F-statistic:                     46.32\n",
      "Date:                Mon, 15 Mar 2021   Prob (F-statistic):           3.25e-17\n",
      "Time:                        12:06:10   Log-Likelihood:                -694.55\n",
      "No. Observations:                 200   AIC:                             1395.\n",
      "Df Residuals:                     197   BIC:                             1405.\n",
      "Df Model:                           2                                         \n",
      "Covariance Type:            nonrobust                                         \n",
      "==============================================================================================\n",
      "                                 coef    std err          t      P>|t|      [0.025      0.975]\n",
      "----------------------------------------------------------------------------------------------\n",
      "Intercept                     52.8280      0.588     89.845      0.000      51.668      53.988\n",
      "C(readcat, Poly).Linear       10.6969      1.118      9.567      0.000       8.492      12.902\n",
      "C(readcat, Poly).Quadratic    -0.6472      0.908     -0.713      0.477      -2.438       1.143\n",
      "==============================================================================\n",
      "Omnibus:                        9.800   Durbin-Watson:                   1.698\n",
      "Prob(Omnibus):                  0.007   Jarque-Bera (JB):               10.330\n",
      "Skew:                          -0.536   Prob(JB):                      0.00571\n",
      "Kurtosis:                       2.702   Cond. No.                         2.08\n",
      "==============================================================================\n",
      "\n",
      "Warnings:\n",
      "[1] Standard Errors assume that the covariance matrix of the errors is correctly specified.\n"
     ]
    }
   ],
   "source": [
    "mod = ols(\"write ~ C(readcat, Poly)\", data=hsb2)\n",
    "res = mod.fit()\n",
    "print(res.summary())"
   ]
  },
  {
   "cell_type": "code",
   "execution_count": null,
   "metadata": {},
   "outputs": [],
   "source": []
  }
 ],
 "metadata": {
  "kernelspec": {
   "display_name": "Python 3",
   "language": "python",
   "name": "python3"
  },
  "language_info": {
   "codemirror_mode": {
    "name": "ipython",
    "version": 3
   },
   "file_extension": ".py",
   "mimetype": "text/x-python",
   "name": "python",
   "nbconvert_exporter": "python",
   "pygments_lexer": "ipython3",
   "version": "3.8.3"
  }
 },
 "nbformat": 4,
 "nbformat_minor": 4
}
